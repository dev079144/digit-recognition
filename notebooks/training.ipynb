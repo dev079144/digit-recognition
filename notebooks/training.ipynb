{
 "cells": [
  {
   "cell_type": "code",
   "execution_count": 6,
   "id": "f1a9e7b2",
   "metadata": {},
   "outputs": [
    {
     "ename": "KeyError",
     "evalue": "'1'",
     "output_type": "error",
     "traceback": [
      "\u001b[0;31m---------------------------------------------------------------------------\u001b[0m",
      "\u001b[0;31mKeyError\u001b[0m                                  Traceback (most recent call last)",
      "Cell \u001b[0;32mIn[6], line 39\u001b[0m\n\u001b[1;32m     35\u001b[0m batch_y \u001b[38;5;241m=\u001b[39m shuffled_y[:, start:end]\n\u001b[1;32m     37\u001b[0m activations, pre_activations \u001b[38;5;241m=\u001b[39m model\u001b[38;5;241m.\u001b[39mforward(batch_x)\n\u001b[0;32m---> 39\u001b[0m gradients \u001b[38;5;241m=\u001b[39m \u001b[43mmodel\u001b[49m\u001b[38;5;241;43m.\u001b[39;49m\u001b[43mbackward\u001b[49m\u001b[43m(\u001b[49m\u001b[43mactivations\u001b[49m\u001b[43m,\u001b[49m\u001b[43m \u001b[49m\u001b[43mpre_activations\u001b[49m\u001b[43m,\u001b[49m\u001b[43m \u001b[49m\u001b[43mbatch_y\u001b[49m\u001b[43m)\u001b[49m\n\u001b[1;32m     41\u001b[0m model\u001b[38;5;241m.\u001b[39mupdate_parameters(gradients, learning_rate)\n\u001b[1;32m     43\u001b[0m epoch_loss \u001b[38;5;241m+\u001b[39m\u001b[38;5;241m=\u001b[39m model\u001b[38;5;241m.\u001b[39mloss(activations[\u001b[38;5;241m-\u001b[39m\u001b[38;5;241m1\u001b[39m], batch_y)\n",
      "File \u001b[0;32m~/Desktop/Karl - One folder to rule them all/Kod/Python/digit-recognition/notebooks/../src/model.py:60\u001b[0m, in \u001b[0;36mMLP.backward\u001b[0;34m(self, activations, pre_activations, y)\u001b[0m\n\u001b[1;32m     58\u001b[0m \u001b[38;5;28;01mfor\u001b[39;00m l \u001b[38;5;129;01min\u001b[39;00m \u001b[38;5;28mreversed\u001b[39m(\u001b[38;5;28mrange\u001b[39m(\u001b[38;5;241m1\u001b[39m, L)):\n\u001b[1;32m     59\u001b[0m     delta \u001b[38;5;241m=\u001b[39m \u001b[38;5;28mself\u001b[39m\u001b[38;5;241m.\u001b[39mweights[\u001b[38;5;124mf\u001b[39m\u001b[38;5;124m'\u001b[39m\u001b[38;5;124mW\u001b[39m\u001b[38;5;132;01m{\u001b[39;00ml\u001b[38;5;241m+\u001b[39m\u001b[38;5;241m1\u001b[39m\u001b[38;5;132;01m}\u001b[39;00m\u001b[38;5;124m'\u001b[39m]\u001b[38;5;241m.\u001b[39mT \u001b[38;5;241m@\u001b[39m delta\n\u001b[0;32m---> 60\u001b[0m     delta \u001b[38;5;241m=\u001b[39m delta \u001b[38;5;241m*\u001b[39m relu_derivative(\u001b[43mpre_activations\u001b[49m\u001b[43m[\u001b[49m\u001b[38;5;124;43mf\u001b[39;49m\u001b[38;5;124;43m'\u001b[39;49m\u001b[38;5;132;43;01m{\u001b[39;49;00m\u001b[43ml\u001b[49m\u001b[38;5;132;43;01m}\u001b[39;49;00m\u001b[38;5;124;43m'\u001b[39;49m\u001b[43m]\u001b[49m)\n\u001b[1;32m     62\u001b[0m     gradients[\u001b[38;5;124mf\u001b[39m\u001b[38;5;124m'\u001b[39m\u001b[38;5;124mW\u001b[39m\u001b[38;5;132;01m{\u001b[39;00ml\u001b[38;5;132;01m}\u001b[39;00m\u001b[38;5;124m'\u001b[39m] \u001b[38;5;241m=\u001b[39m \u001b[38;5;241m1\u001b[39m\u001b[38;5;241m/\u001b[39mm \u001b[38;5;241m*\u001b[39m delta \u001b[38;5;241m@\u001b[39m activations[\u001b[38;5;124mf\u001b[39m\u001b[38;5;124m'\u001b[39m\u001b[38;5;124mA\u001b[39m\u001b[38;5;132;01m{\u001b[39;00ml\u001b[38;5;241m-\u001b[39m\u001b[38;5;241m1\u001b[39m\u001b[38;5;132;01m}\u001b[39;00m\u001b[38;5;124m'\u001b[39m]\u001b[38;5;241m.\u001b[39mT\n\u001b[1;32m     63\u001b[0m     gradients[\u001b[38;5;124mf\u001b[39m\u001b[38;5;124m'\u001b[39m\u001b[38;5;124mB\u001b[39m\u001b[38;5;132;01m{\u001b[39;00ml\u001b[38;5;132;01m}\u001b[39;00m\u001b[38;5;124m'\u001b[39m] \u001b[38;5;241m=\u001b[39m \u001b[38;5;241m1\u001b[39m\u001b[38;5;241m/\u001b[39mm \u001b[38;5;241m*\u001b[39m np\u001b[38;5;241m.\u001b[39msum(delta, axis\u001b[38;5;241m=\u001b[39m\u001b[38;5;241m1\u001b[39m, keepdims\u001b[38;5;241m=\u001b[39m\u001b[38;5;28;01mTrue\u001b[39;00m)\n",
      "\u001b[0;31mKeyError\u001b[0m: '1'"
     ]
    }
   ],
   "source": [
    "import sys\n",
    "sys.path.append('../src')\n",
    "import math\n",
    "import pandas as pd\n",
    "import numpy as np\n",
    "import matplotlib.pyplot as plt\n",
    "from hyperparameters import hidden_sizes, batch_size, learning_rate, epochs\n",
    "from utils import process_data\n",
    "from model import MLP\n",
    "\n",
    "x, y, n_of_classes = process_data('../data/mnist-in-csv/mnist_train.csv')\n",
    "input_size = x.shape[0]\n",
    "output_size = n_of_classes\n",
    "\n",
    "model = MLP(input_size, hidden_sizes, output_size)\n",
    "\n",
    "for i in range(epochs):\n",
    "    set_size = x.shape[1]\n",
    "    \n",
    "    shuffled = np.random.permutation(set_size)\n",
    "    shuffled_x = x[:, shuffled]\n",
    "    shuffled_y = y[:, shuffled]\n",
    "\n",
    "    iterations = math.ceil(set_size / batch_size)\n",
    "\n",
    "    epoch_loss = 0\n",
    "    right = 0\n",
    "    total = 0\n",
    "\n",
    "    for j in range(iterations):\n",
    "        start = j * batch_size\n",
    "        end = min((j + 1) * batch_size, set_size)\n",
    "\n",
    "        batch_x = shuffled_x[:, start:end]\n",
    "        batch_y = shuffled_y[:, start:end]\n",
    "\n",
    "        activations, pre_activations = model.forward(batch_x)\n",
    "\n",
    "        gradients = model.backward(activations, pre_activations, batch_y)\n",
    "\n",
    "        model.update_parameters(gradients, learning_rate)\n",
    "    \n",
    "        epoch_loss += model.loss(activations[-1], batch_y)\n",
    "\n",
    "        prediction = np.argmax(activations[-1], axis=0)\n",
    "        correct = np.argmax(batch_y, axis=0)\n",
    "\n",
    "        right += np.sum(prediction == correct)\n",
    "        total += batch_y.shape[1]\n",
    "        \n",
    "    avg_loss = epoch_loss / iterations\n",
    "    accuracy = right / total\n",
    "    \n",
    "    print(f'Epoch {i} - Loss: {avg_loss:.5f}, Accuracy: {accuracy:.5f}')\n"
   ]
  },
  {
   "cell_type": "code",
   "execution_count": null,
   "id": "df579b68",
   "metadata": {},
   "outputs": [],
   "source": []
  }
 ],
 "metadata": {
  "kernelspec": {
   "display_name": "venv",
   "language": "python",
   "name": "python3"
  },
  "language_info": {
   "codemirror_mode": {
    "name": "ipython",
    "version": 3
   },
   "file_extension": ".py",
   "mimetype": "text/x-python",
   "name": "python",
   "nbconvert_exporter": "python",
   "pygments_lexer": "ipython3",
   "version": "3.9.6"
  }
 },
 "nbformat": 4,
 "nbformat_minor": 5
}
