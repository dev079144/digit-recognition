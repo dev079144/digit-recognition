{
 "cells": [
  {
   "cell_type": "code",
   "execution_count": null,
   "id": "0bd993f6",
   "metadata": {},
   "outputs": [],
   "source": [
    "# Hyperparameters\n",
    "# Edit as you want\n",
    "# Modify this cell only\n",
    "\n",
    "hidden_sizes = [128]    # List of sizes of hidden layers\n",
    "batch_size = 32         # Number of samples per batch\n",
    "learning_rate = 0.01    # Gradient descent step size\n",
    "epochs = 10             # Number of dataset training iterations"
   ]
  },
  {
   "cell_type": "code",
   "execution_count": null,
   "id": "f1a9e7b2",
   "metadata": {},
   "outputs": [
    {
     "name": "stdout",
     "output_type": "stream",
     "text": [
      "Epoch 1 - Loss: 7.13863, Accuracy: 0.84197\n",
      "Epoch 2 - Loss: 3.73297, Accuracy: 0.90793\n",
      "Epoch 3 - Loss: 3.12604, Accuracy: 0.92038\n",
      "Epoch 4 - Loss: 2.79205, Accuracy: 0.92818\n",
      "Epoch 5 - Loss: 2.55511, Accuracy: 0.93522\n",
      "Epoch 6 - Loss: 2.37462, Accuracy: 0.93978\n",
      "Epoch 7 - Loss: 2.21327, Accuracy: 0.94395\n",
      "Epoch 8 - Loss: 2.07586, Accuracy: 0.94820\n",
      "Epoch 9 - Loss: 1.95707, Accuracy: 0.95132\n",
      "Epoch 10 - Loss: 1.85250, Accuracy: 0.95408\n",
      "Model weights saved to ../models/Weights_20250718_0109_hidden-128_batch-32_rate-0.01.\n"
     ]
    }
   ],
   "source": [
    "# Training\n",
    "# This cell trains the model with the set hyperparameters\n",
    "# Uses MLP class from model.py module\n",
    "# Cross-entropy loss for computation of gradients for backpropagation\n",
    "# Includes an option to save weights at training completion\n",
    "\n",
    "import sys\n",
    "sys.path.append('../src')\n",
    "import datetime\n",
    "import math\n",
    "import numpy as np\n",
    "from utils import process_data\n",
    "from model import MLP\n",
    "\n",
    "x, y, n_of_classes = process_data('../data/mnist-in-csv/mnist_train.csv')\n",
    "\n",
    "input_size = x.shape[0]\n",
    "output_size = n_of_classes\n",
    "\n",
    "model = MLP(input_size, hidden_sizes, output_size)\n",
    "\n",
    "for i in range(epochs):\n",
    "    set_size = x.shape[1]\n",
    "    \n",
    "    shuffled = np.random.permutation(set_size)\n",
    "    shuffled_x = x[:, shuffled]\n",
    "    shuffled_y = y[:, shuffled]\n",
    "\n",
    "    iterations = math.ceil(set_size / batch_size)\n",
    "\n",
    "    epoch_loss = 0\n",
    "    right = 0\n",
    "    total = 0\n",
    "\n",
    "    for j in range(iterations):\n",
    "        start = j * batch_size\n",
    "        end = min((j + 1) * batch_size, set_size)\n",
    "\n",
    "        batch_x = shuffled_x[:, start:end]\n",
    "        batch_y = shuffled_y[:, start:end]\n",
    "\n",
    "        activations, pre_activations = model.forward(batch_x)\n",
    "\n",
    "        gradients = model.backward(activations, pre_activations, batch_y)\n",
    "\n",
    "        model.update_parameters(gradients, learning_rate)\n",
    "    \n",
    "        epoch_loss += model.loss(activations[f'A{model.connections}'], batch_y)\n",
    "\n",
    "        prediction = np.argmax(activations[f'A{model.connections}'], axis=0)\n",
    "        correct = np.argmax(batch_y, axis=0)\n",
    "\n",
    "        right += np.sum(prediction == correct)\n",
    "        total += batch_y.shape[1]\n",
    "        \n",
    "    avg_loss = epoch_loss / iterations\n",
    "    accuracy = right / total\n",
    "    \n",
    "    print(f'Epoch {i + 1} - Loss: {avg_loss:.5f}, Accuracy: {accuracy:.5f}')\n",
    "\n",
    "save = input('Training successful. Save weights? (y/n)').strip().lower()\n",
    "\n",
    "if save == 'y':\n",
    "    name = f\"Weights_{datetime.datetime.now().strftime('%Y%m%d_%H%M')}_hidden-{'-'.join(map(str, hidden_sizes))}_batch-{batch_size}_rate-{learning_rate}\"\n",
    "    path = f'../models/{name}'\n",
    "    model.save(path)\n",
    "    print(f'Model weights saved to {path}.')\n"
   ]
  },
  {
   "cell_type": "code",
   "execution_count": null,
   "id": "df579b68",
   "metadata": {},
   "outputs": [],
   "source": []
  }
 ],
 "metadata": {
  "kernelspec": {
   "display_name": "venv",
   "language": "python",
   "name": "python3"
  },
  "language_info": {
   "codemirror_mode": {
    "name": "ipython",
    "version": 3
   },
   "file_extension": ".py",
   "mimetype": "text/x-python",
   "name": "python",
   "nbconvert_exporter": "python",
   "pygments_lexer": "ipython3",
   "version": "3.9.6"
  }
 },
 "nbformat": 4,
 "nbformat_minor": 5
}
