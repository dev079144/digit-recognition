{
 "cells": [
  {
   "cell_type": "code",
   "execution_count": null,
   "id": "7d260f87",
   "metadata": {},
   "outputs": [
    {
     "data": {
      "image/png": "[encoded data removed]",
      "text/plain": [
       "<Figure size 640x480 with 1 Axes>"
      ]
     },
     "metadata": {},
     "output_type": "display_data"
    }
   ],
   "source": [
    "# Inference\n",
    "# This cell runs samples to test the model\n",
    "# If there are saved weights from training, this cell will prompt for weights selection\n",
    "# Otherwise the model will load pre-trained weights as a default\n",
    "\n",
    "import sys\n",
    "sys.path.append('../src')\n",
    "import os\n",
    "import re\n",
    "import numpy as np\n",
    "import matplotlib.pyplot as plt\n",
    "from utils import process_data\n",
    "from model import MLP\n",
    "\n",
    "x, y, n_of_classes = process_data('../data/mnist-in-csv/mnist_test.csv')\n",
    "\n",
    "input_size = x.shape[0]\n",
    "output_size = n_of_classes\n",
    "\n",
    "default_weights = 'Weights_20250718_0037_hidden-128_batch-32_rate-0.01.npz'\n",
    "\n",
    "models_directory = '../models'\n",
    "\n",
    "saved_weights = sorted([\n",
    "    f for f in os.listdir(models_directory)\n",
    "    if f.endswith('.npz')\n",
    "])\n",
    "\n",
    "selected_weights = default_weights\n",
    "\n",
    "if len(saved_weights) > 1:\n",
    "    print('Available weights:')\n",
    "\n",
    "    for i, file in enumerate(saved_weights):\n",
    "        default_marker = \" (default)\" if file == default_weights else \"\"\n",
    "        print(f\"[{i}] {file}{default_marker}\")\n",
    "\n",
    "    default_index = saved_weights.index(default_weights)\n",
    "    choice = input(f\"Select weights [0-{len(saved_weights)-1}] (Enter for default)\")\n",
    "    index = default_index if choice == '' else int(choice)\n",
    "\n",
    "    selected_weights = saved_weights[index]\n",
    "\n",
    "    print(f'Using weights: {selected_weights}')\n",
    "\n",
    "weights_path = os.path.join(models_directory, selected_weights)\n",
    "\n",
    "match = re.search(r'hidden-([\\d\\-]+)', selected_weights)\n",
    "\n",
    "if match:\n",
    "    hidden_sizes_str = match.group(1)\n",
    "    hidden_sizes = list(map(int, hidden_sizes_str.split('-')))\n",
    "else:\n",
    "    hidden_sizes = [128]\n",
    "\n",
    "model = MLP(input_size, hidden_sizes, output_size)\n",
    "\n",
    "model.load(weights_path)\n",
    "\n",
    "random_index = np.random.randint(x.shape[1])\n",
    "\n",
    "random_x = x[:, random_index].reshape(-1, 1)\n",
    "random_y = y[:, random_index]\n",
    "\n",
    "activations, pre_activations = model.forward(random_x)\n",
    "\n",
    "prediction = np.argmax(activations[f'A{model.connections}'])\n",
    "\n",
    "image_dimension = int(np.sqrt(x.shape[0]))\n",
    "reshaped_x = random_x.reshape(image_dimension, image_dimension)\n",
    "\n",
    "plt.imshow(reshaped_x, cmap='gray')\n",
    "plt.title(f'The model thought this was the number {prediction}')\n",
    "plt.axis('off')\n",
    "plt.show()"
   ]
  },
  {
   "cell_type": "code",
   "execution_count": null,
   "id": "0e32d7f6",
   "metadata": {},
   "outputs": [],
   "source": []
  }
 ],
 "metadata": {
  "kernelspec": {
   "display_name": "venv",
   "language": "python",
   "name": "python3"
  },
  "language_info": {
   "codemirror_mode": {
    "name": "ipython",
    "version": 3
   },
   "file_extension": ".py",
   "mimetype": "text/x-python",
   "name": "python",
   "nbconvert_exporter": "python",
   "pygments_lexer": "ipython3",
   "version": "3.9.6"
  }
 },
 "nbformat": 4,
 "nbformat_minor": 5
}
